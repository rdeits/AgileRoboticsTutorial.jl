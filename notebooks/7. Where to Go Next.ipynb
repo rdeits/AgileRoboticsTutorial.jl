{
 "cells": [
  {
   "cell_type": "markdown",
   "metadata": {},
   "source": [
    "# More Useful Julia Packages\n",
    "\n",
    "There are a wide variety of cool Julia packages that we won't have time to cover today. You might find some of these useful in your robotics work:\n",
    "\n",
    "[Plots.jl](https://github.com/JuliaPlots/Plots.jl) Extremely powerful plotting tool, with support for a variety of different plotting backends\n",
    "\n",
    "[RobotOS.jl](https://github.com/jdlangs/RobotOS.jl)\n",
    "Julia bindings to ROS\n",
    "\n",
    "[Caesar.jl](https://github.com/dehann/Caesar.jl)\n",
    "A robotics toolkit for mapping and localization\n",
    "\n",
    "[DifferentialEquations.jl](https://github.com/JuliaDiffEq/DifferentialEquations.jl)\n",
    "An entire suite of tools for a variety of diff eq. problems. Includes tools for:\n",
    "\n",
    "* ODEs & PDEs\n",
    "* stochastic ODEs & PDEs\n",
    "* discrete equations\n",
    "* delay differential equations\n",
    "\n",
    "[Documenter.jl](https://github.com/JuliaDocs/Documenter.jl)\n",
    "Automatic generation of Julia package documentation, with nice GitHub integration. \n",
    "\n",
    "[DataFrames.jl](https://github.com/JuliaStats/DataFrames.jl)\n",
    "Tabular data and statistical tools. \n",
    "\n",
    "[Images.jl](https://github.com/JuliaImages/Images.jl )\n",
    "Elegant, efficient image maniuplation. \n",
    "\n",
    "[PyCall.jl](https://github.com/JuliaPy/PyCall.jl)\n",
    "Call Python from Julia easily\n",
    "\n",
    "[GeometryTypes.jl](https://github.com/JuliaGeometry/GeometryTypes.jl) Geometric primitives and meshes\n",
    "\n",
    "[ForwardDiff.jl](https://github.com/JuliaDiff/ForwardDiff.jl) Efficient forward-mode automatic differentiation\n",
    "\n",
    "[HypothesisTests.jl](https://github.com/JuliaStats/HypothesisTests.jl) Statistical hypothesis tests"
   ]
  },
  {
   "cell_type": "markdown",
   "metadata": {},
   "source": [
    "# Where to Learn More\n",
    "\n",
    "There are lots of good Julia resources online. Here are just a few:\n",
    "\n",
    "* [The Julia manual itself](http://docs.julialang.org/en/stable/manual/introduction/)\n",
    "* [A Deep Introduction to Julia for Data Science and Scientific Computing](http://ucidatascienceinitiative.github.io/IntroToJulia/)\n",
    "* [Learn Julia in Y Minutes](https://learnxinyminutes.com/docs/julia/)\n",
    "* [Julia for Data Science](http://101.datascience.community/tag/julia/)"
   ]
  },
  {
   "cell_type": "code",
   "execution_count": null,
   "metadata": {
    "collapsed": true
   },
   "outputs": [],
   "source": []
  }
 ],
 "metadata": {
  "kernelspec": {
   "display_name": "Julia 0.6.0",
   "language": "julia",
   "name": "julia-0.6"
  },
  "language_info": {
   "file_extension": ".jl",
   "mimetype": "application/julia",
   "name": "julia",
   "version": "0.6.0"
  }
 },
 "nbformat": 4,
 "nbformat_minor": 2
}
