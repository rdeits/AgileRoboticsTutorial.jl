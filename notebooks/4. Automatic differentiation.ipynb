{
 "cells": [
  {
   "cell_type": "markdown",
   "metadata": {},
   "source": [
    "# Setup"
   ]
  },
  {
   "cell_type": "code",
   "execution_count": 1,
   "metadata": {},
   "outputs": [],
   "source": [
    "using ForwardDiff"
   ]
  },
  {
   "cell_type": "markdown",
   "metadata": {},
   "source": [
    "# Using ForwardDiff to automatically differentiate functions"
   ]
  },
  {
   "cell_type": "markdown",
   "metadata": {},
   "source": [
    "## Jacobians"
   ]
  },
  {
   "cell_type": "markdown",
   "metadata": {},
   "source": [
    "Let's define a linear function:"
   ]
  },
  {
   "cell_type": "code",
   "execution_count": 2,
   "metadata": {},
   "outputs": [
    {
     "data": {
      "text/plain": [
       "flinear (generic function with 1 method)"
      ]
     },
     "execution_count": 2,
     "metadata": {},
     "output_type": "execute_result"
    }
   ],
   "source": [
    "const A = [1. 2.;\n",
    "           2. 3.]\n",
    "flinear(x) = A * x"
   ]
  },
  {
   "cell_type": "markdown",
   "metadata": {},
   "source": [
    "ForwardDiff allows you to compute the Jacobian of this function *at a specific value of the arguments*:"
   ]
  },
  {
   "cell_type": "code",
   "execution_count": 3,
   "metadata": {},
   "outputs": [
    {
     "data": {
      "text/plain": [
       "2×2 Array{Float64,2}:\n",
       " 1.0  2.0\n",
       " 2.0  3.0"
      ]
     },
     "execution_count": 3,
     "metadata": {},
     "output_type": "execute_result"
    }
   ],
   "source": [
    "ForwardDiff.jacobian(flinear, zeros(2))"
   ]
  },
  {
   "cell_type": "markdown",
   "metadata": {},
   "source": [
    "And here's a nonlinear function:"
   ]
  },
  {
   "cell_type": "code",
   "execution_count": 4,
   "metadata": {},
   "outputs": [
    {
     "data": {
      "text/plain": [
       "fnonlinear (generic function with 1 method)"
      ]
     },
     "execution_count": 4,
     "metadata": {},
     "output_type": "execute_result"
    }
   ],
   "source": [
    "fnonlinear(x) = A * sqrt.(x) + 4 * x.^3"
   ]
  },
  {
   "cell_type": "code",
   "execution_count": 5,
   "metadata": {},
   "outputs": [
    {
     "data": {
      "text/plain": [
       "2×2 Array{Float64,2}:\n",
       " 12.5   0.707107\n",
       "  1.0  49.0607  "
      ]
     },
     "execution_count": 5,
     "metadata": {},
     "output_type": "execute_result"
    }
   ],
   "source": [
    "ForwardDiff.jacobian(fnonlinear, [1., 2.])"
   ]
  },
  {
   "cell_type": "markdown",
   "metadata": {},
   "source": [
    "## Hessians"
   ]
  },
  {
   "cell_type": "markdown",
   "metadata": {},
   "source": [
    "Here's a quadratic form:"
   ]
  },
  {
   "cell_type": "code",
   "execution_count": 6,
   "metadata": {},
   "outputs": [
    {
     "data": {
      "text/plain": [
       "fquadratic (generic function with 1 method)"
      ]
     },
     "execution_count": 6,
     "metadata": {},
     "output_type": "execute_result"
    }
   ],
   "source": [
    "fquadratic(x) = 1/2 * dot(x, A * x)"
   ]
  },
  {
   "cell_type": "markdown",
   "metadata": {},
   "source": [
    "ForwardDiff allows you to compute the Hessian automatically:"
   ]
  },
  {
   "cell_type": "code",
   "execution_count": 7,
   "metadata": {},
   "outputs": [
    {
     "data": {
      "text/plain": [
       "2×2 Array{Float64,2}:\n",
       " 1.0  2.0\n",
       " 2.0  3.0"
      ]
     },
     "execution_count": 7,
     "metadata": {},
     "output_type": "execute_result"
    }
   ],
   "source": [
    "ForwardDiff.hessian(fquadratic, zeros(2))"
   ]
  },
  {
   "cell_type": "markdown",
   "metadata": {},
   "source": [
    "# How does it work?"
   ]
  },
  {
   "cell_type": "markdown",
   "metadata": {},
   "source": [
    "ForwardDiff implements forward-mode [automatic differentiation](https://en.wikipedia.org/wiki/Automatic_differentiation).\n",
    "\n",
    "Automatic differentiation is **not**:\n",
    "* numeric differentiation\n",
    "* symbolic differentiation"
   ]
  },
  {
   "cell_type": "markdown",
   "metadata": {},
   "source": [
    "Automatic differentiation tools compute derivatives **without numerical approximation**, but **only at a specific point**.\n",
    "\n",
    "They do so by:\n",
    "* implementing a new 'scalar' type (similar to the standard `Float64`), and \n",
    "* overloading basic methods to implement the elementary rules of differentiation."
   ]
  },
  {
   "cell_type": "markdown",
   "metadata": {},
   "source": [
    "`Dual` is ForwardDiff's automatic differentiation scalar type:"
   ]
  },
  {
   "cell_type": "code",
   "execution_count": 8,
   "metadata": {},
   "outputs": [
    {
     "name": "stdout",
     "output_type": "stream",
     "text": [
      "ForwardDiff.Dual{Float64,Float64,3} <: Real\n",
      "  value::Float64\n",
      "  partials::ForwardDiff.Partials{3,Float64}\n"
     ]
    }
   ],
   "source": [
    "dump(ForwardDiff.Dual{Float64, Float64, 3})"
   ]
  },
  {
   "cell_type": "markdown",
   "metadata": {},
   "source": [
    "Let's create some `ForwardDiff.Dual`s:"
   ]
  },
  {
   "cell_type": "code",
   "execution_count": 9,
   "metadata": {},
   "outputs": [
    {
     "data": {
      "text/plain": [
       "Dual{Void}(2.0,0.0,2.0)"
      ]
     },
     "execution_count": 9,
     "metadata": {},
     "output_type": "execute_result"
    }
   ],
   "source": [
    "using ForwardDiff: Dual, Partials\n",
    "x = Dual(1., Partials((1., 0.)))\n",
    "y = Dual(2., Partials((0., 2.)))"
   ]
  },
  {
   "cell_type": "markdown",
   "metadata": {},
   "source": [
    "and add them together:"
   ]
  },
  {
   "cell_type": "code",
   "execution_count": 10,
   "metadata": {},
   "outputs": [
    {
     "data": {
      "text/plain": [
       "Dual{Void}(3.0,1.0,2.0)"
      ]
     },
     "execution_count": 10,
     "metadata": {},
     "output_type": "execute_result"
    }
   ],
   "source": [
    "x + y"
   ]
  },
  {
   "cell_type": "code",
   "execution_count": 11,
   "metadata": {},
   "outputs": [
    {
     "data": {
      "text/html": [
       "+<i>{T}</i>(x::<b>ForwardDiff.Dual{T,V,N} where N where V<:Real</b>, y::<b>ForwardDiff.Dual{T,V,N} where N where V<:Real</b>) at <a href=\"https://github.com/JuliaDiff/ForwardDiff.jl/tree/55222a0fe5509c9dc1ecca88c314f0b57f529cd6//src/dual.jl#L93\" target=\"_blank\">/Users/rdeits/Downloads/agile-test/packages/v0.6/ForwardDiff/src/dual.jl:93</a>"
      ],
      "text/plain": [
       "+(x::ForwardDiff.Dual{T,V,N} where N where V<:Real, y::ForwardDiff.Dual{T,V,N} where N where V<:Real) where T in ForwardDiff at /Users/rdeits/Downloads/agile-test/packages/v0.6/ForwardDiff/src/dual.jl:93"
      ]
     },
     "execution_count": 11,
     "metadata": {},
     "output_type": "execute_result"
    }
   ],
   "source": [
    "@which x + y"
   ]
  },
  {
   "cell_type": "markdown",
   "metadata": {},
   "source": [
    "Here's another example:"
   ]
  },
  {
   "cell_type": "code",
   "execution_count": 12,
   "metadata": {},
   "outputs": [
    {
     "data": {
      "text/plain": [
       "Dual{Void}(2.718281828459045,2.718281828459045,0.0)"
      ]
     },
     "execution_count": 12,
     "metadata": {},
     "output_type": "execute_result"
    }
   ],
   "source": [
    "exp(x)"
   ]
  },
  {
   "cell_type": "code",
   "execution_count": 13,
   "metadata": {},
   "outputs": [
    {
     "data": {
      "text/html": [
       "exp<i>{T}</i>(d::<b>ForwardDiff.Dual{T,V,N} where N where V<:Real</b>) at <a href=\"https://github.com/JuliaDiff/ForwardDiff.jl/tree/55222a0fe5509c9dc1ecca88c314f0b57f529cd6//src/dual.jl#L168\" target=\"_blank\">/Users/rdeits/Downloads/agile-test/packages/v0.6/ForwardDiff/src/dual.jl:168</a>"
      ],
      "text/plain": [
       "exp(d::ForwardDiff.Dual{T,V,N} where N where V<:Real) where T in ForwardDiff at /Users/rdeits/Downloads/agile-test/packages/v0.6/ForwardDiff/src/dual.jl:168"
      ]
     },
     "execution_count": 13,
     "metadata": {},
     "output_type": "execute_result"
    }
   ],
   "source": [
    "@which exp(x)"
   ]
  },
  {
   "cell_type": "markdown",
   "metadata": {},
   "source": [
    "Implements:\n",
    "\n",
    "$$\n",
    "\\frac{\\partial e^{x(z)}}{\\partial z} = \\frac{\\partial e^{x}}{\\partial x} \\frac{\\partial x}{\\partial z} = e^x \\frac{\\partial x}{\\partial z}\n",
    "$$"
   ]
  },
  {
   "cell_type": "markdown",
   "metadata": {},
   "source": [
    "*Reverse*-mode automatic differentiation is also available, e.g. in the form of [ReverseDiff.jl](https://github.com/JuliaDiff/ReverseDiff.jl)."
   ]
  }
 ],
 "metadata": {
  "kernelspec": {
   "display_name": "Julia 0.6.0",
   "language": "julia",
   "name": "julia-0.6"
  },
  "language_info": {
   "file_extension": ".jl",
   "mimetype": "application/julia",
   "name": "julia",
   "version": "0.6.0"
  }
 },
 "nbformat": 4,
 "nbformat_minor": 2
}
